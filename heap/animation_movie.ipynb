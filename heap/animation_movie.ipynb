{
 "cells": [
  {
   "cell_type": "code",
   "execution_count": 1,
   "id": "65cb6b0d",
   "metadata": {},
   "outputs": [],
   "source": [
    "import json\n",
    "import numpy as np\n",
    "import ipyvolume as ipv\n",
    "import ipyvolume.pylab as p3\n",
    "import matplotlib.cm as cm\n",
    "import sys\n",
    "import matplotlib as plt\n",
    "from ipywidgets import interact, fixed,interact_manual,IntSlider,VBox\n"
   ]
  },
  {
   "cell_type": "code",
   "execution_count": 2,
   "id": "f6c16fbb",
   "metadata": {},
   "outputs": [],
   "source": [
    "# Load Data\n",
    "try:\n",
    "#     filename = sys.argv[1]\n",
    "    filename = \"230718_135850\"\n",
    "except:\n",
    "    print('Provide prefix of data you want to animate in format yymmdd_hhmmss as command line argument, e.g.:\\n >python animation.py 201005_111211')\n",
    "#     sys.exit()\n",
    "try:\n",
    "    data = np.loadtxt('./logfiles/{}_data.txt'.format(filename), delimiter=',')\n",
    "    with open('./logfiles/{}_meta.txt'.format(filename), 'r') as f:\n",
    "        meta = json.loads(f.read())\n",
    "except:\n",
    "    print('Data file with prefix {} does not exist.\\nProvide prefix of data you want to animate in format yymmdd_hhmmss as command line argument, e.g.:\\n >python animation.py 201005_111211'.format(filename))\n",
    "#     sys.exit()"
   ]
  },
  {
   "cell_type": "code",
   "execution_count": 3,
   "id": "2b3682c3",
   "metadata": {},
   "outputs": [],
   "source": [
    "# Read Experimental Parameters\n",
    "clock_freq = meta['Clock frequency [Hz]']\n",
    "clock_rate = 1000/clock_freq # [ms]\n",
    "arena = meta['Arena [mm]']\n",
    "timesteps = data.shape[0]\n",
    "fishes = int(data.shape[1]/8)\n",
    "\n",
    "# Format Data\n",
    "x = data[:, :1]\n",
    "y = data[:, 1:2]\n",
    "z = data[:, 2:3]\n",
    "phi = data[:, 3:4]\n",
    "#vx = data[:, 4:5]\n",
    "#vy = data[:, 5:6]\n",
    "#vz = data[:, 6:7]\n",
    "\n",
    "for ii in range(1,fishes):\n",
    "    x = np.concatenate((x, data[:, 4*ii:4*ii+1]), axis=1)\n",
    "    y = np.concatenate((y, data[:, 4*ii+1:4*ii+2]), axis=1)\n",
    "    z = np.concatenate((z, data[:, 4*ii+2:4*ii+3]), axis=1)\n",
    "    phi = np.concatenate((phi, data[:, 4*ii+3:4*ii+4]), axis=1)\n",
    "    #vx = np.concatenate((vx, data[:, 4*(fishes+ii):4*(fishes+ii)+1]), axis=1)\n",
    "    #vy = np.concatenate((vy, data[:, 4*(fishes+ii)+1:4*(fishes+ii)+2]), axis=1)\n",
    "    #vz = np.concatenate((vz, data[:, 4*(fishes+ii)+2:4*(fishes+ii)+3]), axis=1)\n",
    "\n",
    "# Colors\n",
    "v = np.sqrt(x**2 + y**2 + z**2)\n",
    "v -= v.min(); v /= v.max()\n",
    "colors = np.array([cm.Blues(k) for k in v])"
   ]
  },
  {
   "cell_type": "code",
   "execution_count": 18,
   "id": "8e4fa803",
   "metadata": {},
   "outputs": [],
   "source": [
    "# Create Animation\n",
    "f = p3.figure()\n",
    "f.animation = 0\n",
    "p3.xlim(0, arena[0])\n",
    "p3.ylim(0, arena[1])\n",
    "p3.zlim(0, arena[2])\n",
    "p3.style.use('dark')\n",
    "\n",
    "time=0\n",
    "quiver = p3.quiver(x[time, :], y[time, :], z[time, :], np.cos(phi[time, :]), np.sin(phi[time, :]), np.zeros((1,len(phi[time, :]))),size=6, color=colors[time,:,:3])\n",
    "# quiver = p3.quiver(x, y, z, np.cos(phi), np.sin(phi), np.zeros((1,len(phi))),size=6, color=colors[:,:,:3])\n",
    "\n",
    "\n",
    "p3.animation_control(quiver, interval=clock_rate)"
   ]
  },
  {
   "cell_type": "code",
   "execution_count": 19,
   "id": "8b10c2c9",
   "metadata": {},
   "outputs": [
    {
     "data": {
      "application/vnd.jupyter.widget-view+json": {
       "model_id": "de6d34988516429c85740f7ec0e872b8",
       "version_major": 2,
       "version_minor": 0
      },
      "text/plain": [
       "VBox(children=(Figure(animation=500.0, camera=PerspectiveCamera(fov=46.0, position=(0.0, 0.0, 2.0), projection…"
      ]
     },
     "metadata": {},
     "output_type": "display_data"
    }
   ],
   "source": [
    "p3.show()"
   ]
  },
  {
   "cell_type": "code",
   "execution_count": 20,
   "id": "ba20597e",
   "metadata": {},
   "outputs": [
    {
     "data": {
      "application/vnd.jupyter.widget-view+json": {
       "model_id": "772ed75ea3034b37a41c3a4eb53e6f9f",
       "version_major": 2,
       "version_minor": 0
      },
      "text/plain": [
       "Output()"
      ]
     },
     "metadata": {},
     "output_type": "display_data"
    }
   ],
   "source": [
    "def set_angles(fig, i, fraction):\n",
    "#     print(i)\n",
    "    quiver.x = x[i, :]\n",
    "    quiver.y = y[i, :]\n",
    "    quiver.z = z[i, :]\n",
    "    quiver.vx = np.cos(phi[i, :])\n",
    "    quiver.vy = np.sin(phi[i, :])\n",
    "    quiver.vz = np.zeros((1,len(phi[i, :])))\n",
    "    quiver.color = colors[i, :, :3]\n",
    "\n",
    "\n",
    "frames=200\n",
    "p3.movie('./animations/{}_animation.mp4'.format(filename), function=set_angles, frames=frames)"
   ]
  },
  {
   "cell_type": "code",
   "execution_count": 16,
   "id": "acee0103",
   "metadata": {},
   "outputs": [
    {
     "name": "stdout",
     "output_type": "stream",
     "text": [
      "(201, 20, 4)\n"
     ]
    }
   ],
   "source": [
    "print(colors.shape)"
   ]
  },
  {
   "cell_type": "code",
   "execution_count": null,
   "id": "2ea672f4",
   "metadata": {},
   "outputs": [],
   "source": []
  }
 ],
 "metadata": {
  "kernelspec": {
   "display_name": "Python 3 (ipykernel)",
   "language": "python",
   "name": "python3"
  },
  "language_info": {
   "codemirror_mode": {
    "name": "ipython",
    "version": 3
   },
   "file_extension": ".py",
   "mimetype": "text/x-python",
   "name": "python",
   "nbconvert_exporter": "python",
   "pygments_lexer": "ipython3",
   "version": "3.6.15"
  }
 },
 "nbformat": 4,
 "nbformat_minor": 5
}
